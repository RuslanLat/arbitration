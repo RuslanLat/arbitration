{
 "cells": [
  {
   "cell_type": "code",
   "execution_count": 2,
   "metadata": {},
   "outputs": [],
   "source": [
    "# импорт необходимых библиотек\n",
    "import pandas as pd\n",
    "import re\n",
    "import time\n",
    "import numpy as np\n",
    "import pickle\n",
    "import os\n",
    "import json\n",
    "import seaborn as sns\n",
    "import matplotlib.pyplot as plt\n",
    "from sklearn.model_selection import train_test_split\n",
    "from sklearn.metrics import recall_score, confusion_matrix\n",
    "# TfidfVectorizer преобразует тексты в числовые вектора, отражающие важность использования каждого слова из некоторого набора\n",
    "from sklearn.feature_extraction.text import TfidfVectorizer\n",
    "from sklearn import metrics # набор метрик для оценки качества модели\n",
    "from sklearn.metrics import precision_recall_fscore_support, accuracy_score\n",
    "from sklearn.model_selection import GridSearchCV  # модуль поиска по сетке параметров\n",
    "from sklearn.linear_model import LogisticRegression # Логистическая регрессия\n",
    "\n",
    "import warnings\n",
    "warnings.filterwarnings(\"ignore\")\n",
    "\n",
    "import nltk\n",
    "from nltk.corpus import stopwords as nltk_stopwords\n",
    "\n",
    "from pymystem3 import Mystem"
   ]
  },
  {
   "cell_type": "code",
   "execution_count": 3,
   "metadata": {},
   "outputs": [
    {
     "name": "stderr",
     "output_type": "stream",
     "text": [
      "[nltk_data] Downloading package stopwords to\n",
      "[nltk_data]     C:\\Users\\rus_k\\AppData\\Roaming\\nltk_data...\n",
      "[nltk_data]   Package stopwords is already up-to-date!\n"
     ]
    }
   ],
   "source": [
    "nltk.download(\"stopwords\")\n",
    "stopwords = list(nltk_stopwords.words(\"russian\"))"
   ]
  },
  {
   "cell_type": "code",
   "execution_count": 4,
   "metadata": {},
   "outputs": [
    {
     "data": {
      "text/plain": [
       "{'0': 'arrangement',\n",
       " '1': 'application',\n",
       " '2': 'proxy',\n",
       " '3': 'contract',\n",
       " '4': 'act',\n",
       " '5': 'order',\n",
       " '6': 'determination',\n",
       " '7': 'statute',\n",
       " '8': 'contract offer',\n",
       " '9': 'invoice',\n",
       " '10': 'bill'}"
      ]
     },
     "execution_count": 4,
     "metadata": {},
     "output_type": "execute_result"
    }
   ],
   "source": [
    "# словарь видов договоров\n",
    "with open(\"labels.json\", \"r\", encoding=\"utf8\") as f:\n",
    "    labels = json.load(f)\n",
    "labels"
   ]
  },
  {
   "cell_type": "code",
   "execution_count": 5,
   "metadata": {},
   "outputs": [
    {
     "data": {
      "text/html": [
       "<div>\n",
       "<style scoped>\n",
       "    .dataframe tbody tr th:only-of-type {\n",
       "        vertical-align: middle;\n",
       "    }\n",
       "\n",
       "    .dataframe tbody tr th {\n",
       "        vertical-align: top;\n",
       "    }\n",
       "\n",
       "    .dataframe thead th {\n",
       "        text-align: right;\n",
       "    }\n",
       "</style>\n",
       "<table border=\"1\" class=\"dataframe\">\n",
       "  <thead>\n",
       "    <tr style=\"text-align: right;\">\n",
       "      <th></th>\n",
       "      <th>class</th>\n",
       "      <th>text</th>\n",
       "      <th>lemm_text_list</th>\n",
       "      <th>lemm_text</th>\n",
       "    </tr>\n",
       "  </thead>\n",
       "  <tbody>\n",
       "    <tr>\n",
       "      <th>0</th>\n",
       "      <td>arrangement</td>\n",
       "      <td>соглашение     о расторжении трудового договор...</td>\n",
       "      <td>['соглашение', 'о', 'расторжение', 'трудовой',...</td>\n",
       "      <td>соглашение о расторжение трудовой договор от к...</td>\n",
       "    </tr>\n",
       "    <tr>\n",
       "      <th>1</th>\n",
       "      <td>arrangement</td>\n",
       "      <td>соглашение о предоставлении опциона на заключе...</td>\n",
       "      <td>['соглашение', 'о', 'предоставление', 'опцион'...</td>\n",
       "      <td>соглашение о предоставление опцион на заключен...</td>\n",
       "    </tr>\n",
       "    <tr>\n",
       "      <th>2</th>\n",
       "      <td>arrangement</td>\n",
       "      <td>соглашение о реструктуризации задолженности   ...</td>\n",
       "      <td>['соглашение', 'о', 'реструктуризация', 'задол...</td>\n",
       "      <td>соглашение о реструктуризация задолженность г ...</td>\n",
       "    </tr>\n",
       "    <tr>\n",
       "      <th>3</th>\n",
       "      <td>arrangement</td>\n",
       "      <td>дополнительное соглашение  к договору купли пр...</td>\n",
       "      <td>['дополнительный', 'соглашение', 'к', 'договор...</td>\n",
       "      <td>дополнительный соглашение к договор купля прод...</td>\n",
       "    </tr>\n",
       "    <tr>\n",
       "      <th>4</th>\n",
       "      <td>arrangement</td>\n",
       "      <td>соглашение о расторжении договора об оказании ...</td>\n",
       "      <td>['соглашение', 'о', 'расторжение', 'договор', ...</td>\n",
       "      <td>соглашение о расторжение договор об оказание у...</td>\n",
       "    </tr>\n",
       "  </tbody>\n",
       "</table>\n",
       "</div>"
      ],
      "text/plain": [
       "         class                                               text  \\\n",
       "0  arrangement  соглашение     о расторжении трудового договор...   \n",
       "1  arrangement  соглашение о предоставлении опциона на заключе...   \n",
       "2  arrangement  соглашение о реструктуризации задолженности   ...   \n",
       "3  arrangement  дополнительное соглашение  к договору купли пр...   \n",
       "4  arrangement  соглашение о расторжении договора об оказании ...   \n",
       "\n",
       "                                      lemm_text_list  \\\n",
       "0  ['соглашение', 'о', 'расторжение', 'трудовой',...   \n",
       "1  ['соглашение', 'о', 'предоставление', 'опцион'...   \n",
       "2  ['соглашение', 'о', 'реструктуризация', 'задол...   \n",
       "3  ['дополнительный', 'соглашение', 'к', 'договор...   \n",
       "4  ['соглашение', 'о', 'расторжение', 'договор', ...   \n",
       "\n",
       "                                           lemm_text  \n",
       "0  соглашение о расторжение трудовой договор от к...  \n",
       "1  соглашение о предоставление опцион на заключен...  \n",
       "2  соглашение о реструктуризация задолженность г ...  \n",
       "3  дополнительный соглашение к договор купля прод...  \n",
       "4  соглашение о расторжение договор об оказание у...  "
      ]
     },
     "execution_count": 5,
     "metadata": {},
     "output_type": "execute_result"
    }
   ],
   "source": [
    "# загрузка данных в датафрейм\n",
    "df = pd.read_csv(\"sample.csv\")\n",
    "df.head()"
   ]
  },
  {
   "cell_type": "code",
   "execution_count": 6,
   "metadata": {},
   "outputs": [],
   "source": [
    "# ограничение количества слов в списке лемматизированных слов договора\n",
    "MAX_WORD = 1000 # подбирается наилучший по метрике на кроссвалидации "
   ]
  },
  {
   "cell_type": "code",
   "execution_count": 7,
   "metadata": {},
   "outputs": [
    {
     "name": "stdout",
     "output_type": "stream",
     "text": [
      "CPU times: total: 203 ms\n",
      "Wall time: 205 ms\n"
     ]
    }
   ],
   "source": [
    "%%time\n",
    "df[\"lemm_text_list\"] = df[\"lemm_text_list\"].apply(lambda x: eval(x)[:MAX_WORD])\n",
    "# формируем столбец 'lemm_text' - лемматизированный тест для последующей обработки в TfidfVectorizer\n",
    "df[\"lemm_text\"] = df[\"lemm_text_list\"].apply(lambda x: \" \".join(x))"
   ]
  },
  {
   "cell_type": "code",
   "execution_count": 14,
   "metadata": {},
   "outputs": [
    {
     "data": {
      "text/plain": [
       "{'arrangement': '0',\n",
       " 'application': '1',\n",
       " 'proxy': '2',\n",
       " 'contract': '3',\n",
       " 'act': '4',\n",
       " 'order': '5',\n",
       " 'determination': '6',\n",
       " 'statute': '7',\n",
       " 'contract offer': '8',\n",
       " 'invoice': '9',\n",
       " 'bill': '10'}"
      ]
     },
     "execution_count": 14,
     "metadata": {},
     "output_type": "execute_result"
    }
   ],
   "source": [
    "invert_labels = {val:key for key, val in labels.items()}\n",
    "invert_labels"
   ]
  },
  {
   "cell_type": "code",
   "execution_count": 16,
   "metadata": {},
   "outputs": [],
   "source": [
    "df['class_id'] = df['class'].map(invert_labels)"
   ]
  },
  {
   "cell_type": "code",
   "execution_count": 17,
   "metadata": {},
   "outputs": [],
   "source": [
    "# лемматизированный текст договора\n",
    "X = df[\"lemm_text\"]\n",
    "# целевой признак - номер класса\n",
    "y = df[\"class_id\"]"
   ]
  },
  {
   "cell_type": "markdown",
   "metadata": {},
   "source": [
    "# Модель"
   ]
  },
  {
   "cell_type": "code",
   "execution_count": 18,
   "metadata": {},
   "outputs": [],
   "source": [
    "# инициализация TfidfVectorizer\n",
    "vectorizer = TfidfVectorizer(stop_words=stopwords, ngram_range=(1, 3), max_features=1000)"
   ]
  },
  {
   "cell_type": "code",
   "execution_count": 19,
   "metadata": {},
   "outputs": [],
   "source": [
    "# обучение TfidfVectorizer\n",
    "X_grid = vectorizer.fit_transform(X)  "
   ]
  },
  {
   "cell_type": "code",
   "execution_count": 20,
   "metadata": {},
   "outputs": [],
   "source": [
    "# сохранение обученного TfidfVectorizer в файл\n",
    "dest = os.path.join(\"data\", \"pkl_object\")\n",
    "if not os.path.exists(dest):\n",
    "    os.makedirs(dest)\n",
    "pickle.dump(vectorizer,\n",
    "            open(os.path.join(dest, \"vectorizer.pkl\"), \"wb\"),\n",
    "            protocol=4)"
   ]
  },
  {
   "cell_type": "code",
   "execution_count": 40,
   "metadata": {},
   "outputs": [
    {
     "name": "stdout",
     "output_type": "stream",
     "text": [
      "CPU times: total: 172 ms\n",
      "Wall time: 403 ms\n"
     ]
    },
    {
     "data": {
      "text/html": [
       "<div>\n",
       "<style scoped>\n",
       "    .dataframe tbody tr th:only-of-type {\n",
       "        vertical-align: middle;\n",
       "    }\n",
       "\n",
       "    .dataframe tbody tr th {\n",
       "        vertical-align: top;\n",
       "    }\n",
       "\n",
       "    .dataframe thead th {\n",
       "        text-align: right;\n",
       "    }\n",
       "</style>\n",
       "<table border=\"1\" class=\"dataframe\">\n",
       "  <thead>\n",
       "    <tr style=\"text-align: right;\">\n",
       "      <th></th>\n",
       "      <th>Метрика</th>\n",
       "      <th>Показатель метрики</th>\n",
       "    </tr>\n",
       "  </thead>\n",
       "  <tbody>\n",
       "    <tr>\n",
       "      <th>1</th>\n",
       "      <td>accuracy</td>\n",
       "      <td>0.948119</td>\n",
       "    </tr>\n",
       "    <tr>\n",
       "      <th>2</th>\n",
       "      <td>precision_macro</td>\n",
       "      <td>0.931030</td>\n",
       "    </tr>\n",
       "    <tr>\n",
       "      <th>3</th>\n",
       "      <td>recall_macro</td>\n",
       "      <td>0.927736</td>\n",
       "    </tr>\n",
       "    <tr>\n",
       "      <th>4</th>\n",
       "      <td>f1_macro</td>\n",
       "      <td>0.917918</td>\n",
       "    </tr>\n",
       "  </tbody>\n",
       "</table>\n",
       "</div>"
      ],
      "text/plain": [
       "           Метрика  Показатель метрики\n",
       "1         accuracy            0.948119\n",
       "2  precision_macro            0.931030\n",
       "3     recall_macro            0.927736\n",
       "4         f1_macro            0.917918"
      ]
     },
     "execution_count": 40,
     "metadata": {},
     "output_type": "execute_result"
    }
   ],
   "source": [
    "%%time\n",
    "# кросс-валидация на 5 фолдах и вывод метрик\n",
    "metrics_for_model = [\"accuracy\", \"precision_macro\", \"recall_macro\", \"f1_macro\"]\n",
    "best_metrics = []\n",
    "for scoring in metrics_for_model:\n",
    "    logit = LogisticRegression(random_state=12345)\n",
    "    logit_grid_searcher = GridSearchCV(estimator=logit, param_grid={\"C\":[5],\n",
    "                                                                    \"solver\": [\"liblinear\"],\n",
    "                                                                    \"max_iter\":[100]},\n",
    "                                        scoring=scoring, n_jobs=-1, cv=5)\n",
    "    logit_grid_searcher.fit(X_grid, y)\n",
    "    best_metrics.append(logit_grid_searcher.best_score_)\n",
    "    \n",
    "columns = [\"Метрика\", \"Показатель метрики\"] \n",
    "metrics_itog = pd.DataFrame(index=[1, 2, 3, 4], data=metrics_for_model)\n",
    "metrics_itog[1] = best_metrics \n",
    "metrics_itog.columns = columns\n",
    "metrics_itog"
   ]
  },
  {
   "cell_type": "code",
   "execution_count": 22,
   "metadata": {},
   "outputs": [],
   "source": [
    "# сохранение обученной модели в файл\n",
    "pickle.dump(logit_grid_searcher,\n",
    "            open(os.path.join(dest, \"logit_grid_searcher.pkl\"), \"wb\"),\n",
    "            protocol=4)"
   ]
  },
  {
   "cell_type": "markdown",
   "metadata": {},
   "source": [
    "# Тестирование модели"
   ]
  },
  {
   "cell_type": "code",
   "execution_count": 26,
   "metadata": {},
   "outputs": [],
   "source": [
    "# формирование обучающей и тестовой выборки в соотношении 50% и 50% от всех доступных данных\n",
    "X_train, X_test, y_train, y_test = train_test_split(X , y, test_size=0.5, stratify=y, random_state=12345)\n",
    "# если задать разбиение 70% на 30% то метрики будут 100 процентные !!!"
   ]
  },
  {
   "cell_type": "code",
   "execution_count": 27,
   "metadata": {},
   "outputs": [],
   "source": [
    "# обучение на трейне и применение на тесте TfidfVectorizer \n",
    "vectorizer = TfidfVectorizer(ngram_range=(1, 3), max_features=1000) # инициализация TfidfVectorizer\n",
    "X_train = vectorizer.fit_transform(X_train) # обучение TfidfVectorizer на трейне\n",
    "X_test = vectorizer.transform(X_test) # применение обученного TfidfVectorizer на тесте"
   ]
  },
  {
   "cell_type": "code",
   "execution_count": 28,
   "metadata": {},
   "outputs": [],
   "source": [
    "# инициализация логистической регрессии (гиперпараметры по умолчанию)\n",
    "lr = LogisticRegression(random_state=12345, C = 5, max_iter = 100, solver = \"liblinear\")\n",
    "# обучение логистической регрессии на трейне\n",
    "lr.fit(X_train, y_train)\n",
    "# получение предсказаний на тесте\n",
    "y_pred = lr.predict(X_test) "
   ]
  },
  {
   "cell_type": "code",
   "execution_count": 29,
   "metadata": {},
   "outputs": [
    {
     "data": {
      "text/plain": [
       "0.9880478087649402"
      ]
     },
     "execution_count": 29,
     "metadata": {},
     "output_type": "execute_result"
    }
   ],
   "source": [
    "# вывод метрик и confusion_matrix\n",
    "accuracy_score(y_test, y_pred)"
   ]
  },
  {
   "cell_type": "code",
   "execution_count": 41,
   "metadata": {},
   "outputs": [
    {
     "data": {
      "text/plain": [
       "(0.9807899610271152, 0.9727272727272727, 0.9751287309182046, None)"
      ]
     },
     "execution_count": 41,
     "metadata": {},
     "output_type": "execute_result"
    }
   ],
   "source": [
    "precision_recall_fscore_support(y_test, y_pred, average=\"macro\")"
   ]
  },
  {
   "cell_type": "code",
   "execution_count": 30,
   "metadata": {},
   "outputs": [
    {
     "data": {
      "image/png": "[encoded data removed]",
      "text/plain": [
       "<Figure size 800x600 with 2 Axes>"
      ]
     },
     "metadata": {},
     "output_type": "display_data"
    }
   ],
   "source": [
    "cm = confusion_matrix(y_test, y_pred)\n",
    "class_names = labels.values()\n",
    "fig = plt.figure(figsize=(8, 6))\n",
    "ax= plt.subplot()\n",
    "sns.heatmap(cm, annot=True, ax=ax, fmt=\"d\", cmap=\"Blues\")\n",
    "ax.set_xlabel(\"Predicted\", fontsize=20)\n",
    "ax.xaxis.set_label_position(\"bottom\")\n",
    "plt.xticks(rotation=90)\n",
    "ax.xaxis.set_ticklabels(class_names, fontsize=10)\n",
    "ax.xaxis.tick_bottom()\n",
    "ax.set_ylabel(\"True\", fontsize=20)\n",
    "ax.yaxis.set_ticklabels(class_names, fontsize=10)\n",
    "plt.yticks(rotation=0)\n",
    "plt.title(\"Refined Confusion Matrix\", fontsize=20, pad=50)\n",
    "plt.show()"
   ]
  },
  {
   "cell_type": "markdown",
   "metadata": {},
   "source": [
    "# Предсказание вида для нового документа"
   ]
  },
  {
   "cell_type": "code",
   "execution_count": 68,
   "metadata": {},
   "outputs": [
    {
     "data": {
      "text/plain": [
       "'договор аренды фотостудии  г  курган    апреля      года  лаптева ирина олеговна  паспортные данные  серия       номер          выдан ру ндм  зарегистрированный по адресу город светлогорск  улица свет'"
      ]
     },
     "execution_count": 68,
     "metadata": {},
     "output_type": "execute_result"
    }
   ],
   "source": [
    "# случайный (новый) документ\n",
    "contract = df[\"text\"].sample(1).values[0]\n",
    "contract[:200]"
   ]
  },
  {
   "cell_type": "code",
   "execution_count": 69,
   "metadata": {},
   "outputs": [],
   "source": [
    "m = Mystem()\n",
    "# функция трансформации текста документа для предсказания\n",
    "def ContractTransform(text):\n",
    "    \n",
    "    text = text.lower()\n",
    "    text = re.sub(\"[^а-яА-ЯёЁ]\", \" \", text)\n",
    "    lemm_text_list = [i for i in m.lemmatize(text) if len(i.strip()) > 0] \n",
    "    lemm_text_list = lemm_text_list[:MAX_WORD]\n",
    "    \n",
    "    return pd.Series(\" \".join(lemm_text_list)) "
   ]
  },
  {
   "cell_type": "code",
   "execution_count": 70,
   "metadata": {},
   "outputs": [
    {
     "data": {
      "text/plain": [
       "0    договор аренда фотостудия г курган апрель год ...\n",
       "dtype: object"
      ]
     },
     "execution_count": 70,
     "metadata": {},
     "output_type": "execute_result"
    }
   ],
   "source": [
    "# трансформация текста случайного (нового) договора\n",
    "X_test = ContractTransform(contract)\n",
    "X_test"
   ]
  },
  {
   "cell_type": "code",
   "execution_count": 71,
   "metadata": {},
   "outputs": [],
   "source": [
    "# применение векторайзера\n",
    "X_test = vectorizer.transform(X_test)"
   ]
  },
  {
   "cell_type": "code",
   "execution_count": 72,
   "metadata": {},
   "outputs": [
    {
     "data": {
      "text/plain": [
       "'3'"
      ]
     },
     "execution_count": 72,
     "metadata": {},
     "output_type": "execute_result"
    }
   ],
   "source": [
    "# получение предсказаного номера класса\n",
    "class_number = logit_grid_searcher.predict(X_test)[0]\n",
    "class_number"
   ]
  },
  {
   "cell_type": "code",
   "execution_count": 73,
   "metadata": {},
   "outputs": [
    {
     "data": {
      "text/plain": [
       "'contract'"
      ]
     },
     "execution_count": 73,
     "metadata": {},
     "output_type": "execute_result"
    }
   ],
   "source": [
    "# получение предсказаного названия вида документа (в текстовом виде)\n",
    "labels[str(class_number)]"
   ]
  }
 ],
 "metadata": {
  "kernelspec": {
   "display_name": "venv",
   "language": "python",
   "name": "python3"
  },
  "language_info": {
   "codemirror_mode": {
    "name": "ipython",
    "version": 3
   },
   "file_extension": ".py",
   "mimetype": "text/x-python",
   "name": "python",
   "nbconvert_exporter": "python",
   "pygments_lexer": "ipython3",
   "version": "3.11.3"
  }
 },
 "nbformat": 4,
 "nbformat_minor": 2
}
